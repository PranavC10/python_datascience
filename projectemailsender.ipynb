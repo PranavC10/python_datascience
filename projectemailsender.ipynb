{
 "cells": [
  {
   "cell_type": "code",
   "execution_count": 5,
   "metadata": {},
   "outputs": [
    {
     "name": "stdout",
     "output_type": "stream",
     "text": [
      "in function EE\n",
      "{'nadeem055555@gmail.com'}\n",
      " i m below mainloop\n"
     ]
    }
   ],
   "source": [
    "import tkinter \n",
    "import tkinter.filedialog\n",
    "import re\n",
    "import smtplib \n",
    "root = tkinter.Tk()\n",
    "\n",
    "def print_path():\n",
    "    f= tkinter.filedialog.askopenfilename(\n",
    "    parent=root,\n",
    "    title='Choose file',\n",
    "    filetypes=[('Text File', '.txt')])\n",
    "    extractemail(f)\n",
    "\n",
    "\n",
    "\n",
    "b1 = tkinter.Button(root, text='Enterpath', command=print_path)\n",
    "b1.pack(fill='x')\n",
    "\n",
    "root.mainloop()\n",
    "print(\" i m below mainloop\")\n"
   ]
  },
  {
   "cell_type": "code",
   "execution_count": 4,
   "metadata": {},
   "outputs": [],
   "source": [
    "\n",
    "\n",
    "\n",
    "def extractemail(path):\n",
    "        print(\"in function EE\")\n",
    "        f = open(path, \"r\")\n",
    "        text=f.read()\n",
    "        emails = re.findall(r\"[a-z0-9\\.\\-+_]+@[a-z0-9\\.\\-+_]+\\.[a-z]+\", text)\n",
    "\n",
    "        a= open(\"emaillist.txt\",\"w+\")\n",
    "        emails=set(emails)\n",
    "        print(emails)\n",
    "        #a.write(emails)\n",
    "        l=len(emails)\n",
    "        for i in emails:\n",
    "\n",
    "            a.write(i)\n",
    "            a.write(\",\")\n",
    "        f.close()\n",
    "        send_emails(emails)\n"
   ]
  },
  {
   "cell_type": "code",
   "execution_count": 3,
   "metadata": {},
   "outputs": [],
   "source": [
    "def send_emails(emails):\n",
    "        \n",
    "        def getdata():\n",
    "            eid=t1.get()\n",
    "            password=t2.get()\n",
    "            msg=t3.get()\n",
    "            emailloop(emails,msg,eid,password)\n",
    "            return(0)   \n",
    "    \n",
    "    \n",
    "        emailgui= tkinter.Tk()\n",
    "        tkinter.Label(emailgui, text=\"Email id\").grid(row=0)\n",
    "        tkinter.Label(emailgui, text=\"Password\").grid(row=1)\n",
    "        tkinter.Label(emailgui, text=\"Message\").grid(row=2)\n",
    "        t1 = tkinter.Entry(emailgui)\n",
    "        t2 = tkinter.Entry(emailgui)\n",
    "        t3 = tkinter.Entry(emailgui)\n",
    "        t1.grid(row=0, column=1)\n",
    "        t2.grid(row=1, column=1)\n",
    "        t3.grid(row=2, column=1)\n",
    "        tkinter.Button(emailgui,text=\"submit\",command=getdata).grid(row=4)\n",
    "        emailgui.mainloop()\n",
    "\n",
    "    \n",
    "   \n",
    "       \n",
    "                    "
   ]
  },
  {
   "cell_type": "code",
   "execution_count": 2,
   "metadata": {},
   "outputs": [],
   "source": [
    "def emailloop(emails,msg,eid,password):\n",
    "             for i in emails:\n",
    "                        s = smtplib.SMTP('smtp.gmail.com', 587) \n",
    "                        s.starttls() \n",
    "                        s.login(eid, password) \n",
    "                        message =msg\n",
    "                        s.sendmail(\"hello\", i, message) \n",
    "                        s.quit() \n",
    "               \n",
    "            \n",
    "          \n"
   ]
  },
  {
   "cell_type": "code",
   "execution_count": null,
   "metadata": {},
   "outputs": [],
   "source": [
    "\n"
   ]
  },
  {
   "cell_type": "code",
   "execution_count": null,
   "metadata": {},
   "outputs": [],
   "source": []
  },
  {
   "cell_type": "code",
   "execution_count": null,
   "metadata": {},
   "outputs": [],
   "source": [
    "\n",
    "        "
   ]
  },
  {
   "cell_type": "code",
   "execution_count": null,
   "metadata": {},
   "outputs": [],
   "source": []
  }
 ],
 "metadata": {
  "kernelspec": {
   "display_name": "Python 3",
   "language": "python",
   "name": "python3"
  },
  "language_info": {
   "codemirror_mode": {
    "name": "ipython",
    "version": 3
   },
   "file_extension": ".py",
   "mimetype": "text/x-python",
   "name": "python",
   "nbconvert_exporter": "python",
   "pygments_lexer": "ipython3",
   "version": "3.7.4"
  }
 },
 "nbformat": 4,
 "nbformat_minor": 2
}
